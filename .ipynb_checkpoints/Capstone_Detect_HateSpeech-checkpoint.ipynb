{
 "cells": [
  {
   "cell_type": "markdown",
   "id": "db2a9d4f",
   "metadata": {},
   "source": [
    "# Step 1 - Problem Identification\n",
    "#### The goal of this project is to use a ML supervised learning model to predict whether a Tweet contains \"abusive\" language or not. \n",
    "Predicting hate speech, or abusive speech, in digital text is a key business problem for any online community platform, whether it's social media, forums, video games, etc. Abusive communication from users can drive down platform use, leading to product shrinkage. \n",
    "<br>\n",
    "The goal of this project is to reasonably predict (90% or higher) when a text body (Tweet, in this dataset) is Abusive or not, using an annotated dataset of Twitter tweets, credits below"
   ]
  },
  {
   "cell_type": "code",
   "execution_count": null,
   "id": "3a31e4d2",
   "metadata": {},
   "outputs": [],
   "source": [
    "'''\n",
    "@article{kennedy2020constructing,\n",
    "  title={Constructing interval variables via faceted Rasch measurement and multitask deep learning: a hate speech application},\n",
    "  author={Kennedy, Chris J and Bacon, Geoff and Sahn, Alexander and von Vacano, Claudia},\n",
    "  journal={arXiv preprint arXiv:2009.10277},\n",
    "  year={2020}\n",
    "}'''"
   ]
  },
  {
   "cell_type": "code",
   "execution_count": 1,
   "id": "bd0e30a9",
   "metadata": {},
   "outputs": [],
   "source": [
    "import numpy as np\n",
    "import scipy as sp\n",
    "\n",
    "#Visualization libraries\n",
    "import matplotlib.pyplot as plt\n",
    "from IPython.display import display\n",
    "import seaborn as sns\n",
    "sns.set_style(\"whitegrid\")\n",
    "sns.set_context(\"poster\")\n",
    "\n",
    "#Pandas dataframes\n",
    "import pandas as pd\n",
    "\n",
    "#NLP libraries\n",
    "import nltk\n",
    "from nltk import word_tokenize\n",
    "from nltk.corpus import stopwords"
   ]
  },
  {
   "cell_type": "markdown",
   "id": "2637a420",
   "metadata": {},
   "source": [
    "# Step 2 - Data Wrangling\n",
    "#### Import HateSpeech dataset"
   ]
  },
  {
   "cell_type": "code",
   "execution_count": 3,
   "id": "2c03099a",
   "metadata": {},
   "outputs": [
    {
     "name": "stderr",
     "output_type": "stream",
     "text": [
      "Using custom data configuration ucberkeley-dlab--measuring-hate-speech-7cb9b0b8e4d0e1dd\n",
      "Reusing dataset parquet (C:\\Users\\DP185257\\.cache\\huggingface\\datasets\\parquet\\ucberkeley-dlab--measuring-hate-speech-7cb9b0b8e4d0e1dd\\0.0.0\\0b6d5799bb726b24ad7fc7be720c170d8e497f575d02d47537de9a5bac074901)\n"
     ]
    },
    {
     "data": {
      "application/vnd.jupyter.widget-view+json": {
       "model_id": "f46d4ca990c244ac89397c593b74cd8c",
       "version_major": 2,
       "version_minor": 0
      },
      "text/plain": [
       "  0%|          | 0/1 [00:00<?, ?it/s]"
      ]
     },
     "metadata": {},
     "output_type": "display_data"
    },
    {
     "data": {
      "text/html": [
       "<div>\n",
       "<style scoped>\n",
       "    .dataframe tbody tr th:only-of-type {\n",
       "        vertical-align: middle;\n",
       "    }\n",
       "\n",
       "    .dataframe tbody tr th {\n",
       "        vertical-align: top;\n",
       "    }\n",
       "\n",
       "    .dataframe thead th {\n",
       "        text-align: right;\n",
       "    }\n",
       "</style>\n",
       "<table border=\"1\" class=\"dataframe\">\n",
       "  <thead>\n",
       "    <tr style=\"text-align: right;\">\n",
       "      <th></th>\n",
       "      <th>comment_id</th>\n",
       "      <th>annotator_id</th>\n",
       "      <th>platform</th>\n",
       "      <th>sentiment</th>\n",
       "      <th>respect</th>\n",
       "      <th>insult</th>\n",
       "      <th>humiliate</th>\n",
       "      <th>status</th>\n",
       "      <th>dehumanize</th>\n",
       "      <th>violence</th>\n",
       "      <th>...</th>\n",
       "      <th>hatespeech</th>\n",
       "      <th>hate_speech_score</th>\n",
       "      <th>infitms</th>\n",
       "      <th>outfitms</th>\n",
       "      <th>annotator_severity</th>\n",
       "      <th>std_err</th>\n",
       "      <th>annotator_infitms</th>\n",
       "      <th>annotator_outfitms</th>\n",
       "      <th>hypothesis</th>\n",
       "      <th>annotator_age</th>\n",
       "    </tr>\n",
       "  </thead>\n",
       "  <tbody>\n",
       "    <tr>\n",
       "      <th>count</th>\n",
       "      <td>135556.000000</td>\n",
       "      <td>135556.000000</td>\n",
       "      <td>135556.000000</td>\n",
       "      <td>135556.000000</td>\n",
       "      <td>135556.000000</td>\n",
       "      <td>135556.00000</td>\n",
       "      <td>135556.000000</td>\n",
       "      <td>135556.000000</td>\n",
       "      <td>135556.000000</td>\n",
       "      <td>135556.000000</td>\n",
       "      <td>...</td>\n",
       "      <td>135556.000000</td>\n",
       "      <td>135556.000000</td>\n",
       "      <td>135556.000000</td>\n",
       "      <td>135556.000000</td>\n",
       "      <td>135556.000000</td>\n",
       "      <td>135556.000000</td>\n",
       "      <td>135556.000000</td>\n",
       "      <td>135556.000000</td>\n",
       "      <td>135556.000000</td>\n",
       "      <td>135451.000000</td>\n",
       "    </tr>\n",
       "    <tr>\n",
       "      <th>mean</th>\n",
       "      <td>23530.416138</td>\n",
       "      <td>5567.097812</td>\n",
       "      <td>1.281352</td>\n",
       "      <td>2.954307</td>\n",
       "      <td>2.828875</td>\n",
       "      <td>2.56331</td>\n",
       "      <td>2.278638</td>\n",
       "      <td>2.698575</td>\n",
       "      <td>1.846211</td>\n",
       "      <td>1.052045</td>\n",
       "      <td>...</td>\n",
       "      <td>0.744733</td>\n",
       "      <td>-0.567428</td>\n",
       "      <td>1.034322</td>\n",
       "      <td>1.001052</td>\n",
       "      <td>-0.018817</td>\n",
       "      <td>0.300588</td>\n",
       "      <td>1.007158</td>\n",
       "      <td>1.011841</td>\n",
       "      <td>0.014589</td>\n",
       "      <td>37.910772</td>\n",
       "    </tr>\n",
       "    <tr>\n",
       "      <th>std</th>\n",
       "      <td>12387.194125</td>\n",
       "      <td>3230.508937</td>\n",
       "      <td>1.023542</td>\n",
       "      <td>1.231552</td>\n",
       "      <td>1.309548</td>\n",
       "      <td>1.38983</td>\n",
       "      <td>1.370876</td>\n",
       "      <td>0.898500</td>\n",
       "      <td>1.402372</td>\n",
       "      <td>1.345706</td>\n",
       "      <td>...</td>\n",
       "      <td>0.932260</td>\n",
       "      <td>2.380003</td>\n",
       "      <td>0.496867</td>\n",
       "      <td>0.791943</td>\n",
       "      <td>0.487261</td>\n",
       "      <td>0.236380</td>\n",
       "      <td>0.269876</td>\n",
       "      <td>0.675863</td>\n",
       "      <td>0.613006</td>\n",
       "      <td>11.641276</td>\n",
       "    </tr>\n",
       "    <tr>\n",
       "      <th>min</th>\n",
       "      <td>1.000000</td>\n",
       "      <td>1.000000</td>\n",
       "      <td>0.000000</td>\n",
       "      <td>0.000000</td>\n",
       "      <td>0.000000</td>\n",
       "      <td>0.00000</td>\n",
       "      <td>0.000000</td>\n",
       "      <td>0.000000</td>\n",
       "      <td>0.000000</td>\n",
       "      <td>0.000000</td>\n",
       "      <td>...</td>\n",
       "      <td>0.000000</td>\n",
       "      <td>-8.340000</td>\n",
       "      <td>0.100000</td>\n",
       "      <td>0.070000</td>\n",
       "      <td>-1.820000</td>\n",
       "      <td>0.020000</td>\n",
       "      <td>0.390000</td>\n",
       "      <td>0.280000</td>\n",
       "      <td>-1.578693</td>\n",
       "      <td>18.000000</td>\n",
       "    </tr>\n",
       "    <tr>\n",
       "      <th>25%</th>\n",
       "      <td>18148.000000</td>\n",
       "      <td>2719.000000</td>\n",
       "      <td>0.000000</td>\n",
       "      <td>2.000000</td>\n",
       "      <td>2.000000</td>\n",
       "      <td>2.00000</td>\n",
       "      <td>1.000000</td>\n",
       "      <td>2.000000</td>\n",
       "      <td>1.000000</td>\n",
       "      <td>0.000000</td>\n",
       "      <td>...</td>\n",
       "      <td>0.000000</td>\n",
       "      <td>-2.330000</td>\n",
       "      <td>0.710000</td>\n",
       "      <td>0.560000</td>\n",
       "      <td>-0.380000</td>\n",
       "      <td>0.030000</td>\n",
       "      <td>0.810000</td>\n",
       "      <td>0.670000</td>\n",
       "      <td>-0.341008</td>\n",
       "      <td>29.000000</td>\n",
       "    </tr>\n",
       "    <tr>\n",
       "      <th>50%</th>\n",
       "      <td>20052.000000</td>\n",
       "      <td>5602.500000</td>\n",
       "      <td>1.000000</td>\n",
       "      <td>3.000000</td>\n",
       "      <td>3.000000</td>\n",
       "      <td>3.00000</td>\n",
       "      <td>3.000000</td>\n",
       "      <td>3.000000</td>\n",
       "      <td>2.000000</td>\n",
       "      <td>0.000000</td>\n",
       "      <td>...</td>\n",
       "      <td>0.000000</td>\n",
       "      <td>-0.340000</td>\n",
       "      <td>0.960000</td>\n",
       "      <td>0.830000</td>\n",
       "      <td>-0.020000</td>\n",
       "      <td>0.340000</td>\n",
       "      <td>0.970000</td>\n",
       "      <td>0.850000</td>\n",
       "      <td>0.110405</td>\n",
       "      <td>35.000000</td>\n",
       "    </tr>\n",
       "    <tr>\n",
       "      <th>75%</th>\n",
       "      <td>32038.250000</td>\n",
       "      <td>8363.000000</td>\n",
       "      <td>2.000000</td>\n",
       "      <td>4.000000</td>\n",
       "      <td>4.000000</td>\n",
       "      <td>4.00000</td>\n",
       "      <td>3.000000</td>\n",
       "      <td>3.000000</td>\n",
       "      <td>3.000000</td>\n",
       "      <td>2.000000</td>\n",
       "      <td>...</td>\n",
       "      <td>2.000000</td>\n",
       "      <td>1.410000</td>\n",
       "      <td>1.300000</td>\n",
       "      <td>1.220000</td>\n",
       "      <td>0.350000</td>\n",
       "      <td>0.420000</td>\n",
       "      <td>1.170000</td>\n",
       "      <td>1.130000</td>\n",
       "      <td>0.449555</td>\n",
       "      <td>45.000000</td>\n",
       "    </tr>\n",
       "    <tr>\n",
       "      <th>max</th>\n",
       "      <td>50070.000000</td>\n",
       "      <td>11142.000000</td>\n",
       "      <td>3.000000</td>\n",
       "      <td>4.000000</td>\n",
       "      <td>4.000000</td>\n",
       "      <td>4.00000</td>\n",
       "      <td>4.000000</td>\n",
       "      <td>4.000000</td>\n",
       "      <td>4.000000</td>\n",
       "      <td>4.000000</td>\n",
       "      <td>...</td>\n",
       "      <td>2.000000</td>\n",
       "      <td>6.300000</td>\n",
       "      <td>5.900000</td>\n",
       "      <td>9.000000</td>\n",
       "      <td>1.360000</td>\n",
       "      <td>1.900000</td>\n",
       "      <td>2.010000</td>\n",
       "      <td>9.000000</td>\n",
       "      <td>0.987511</td>\n",
       "      <td>81.000000</td>\n",
       "    </tr>\n",
       "  </tbody>\n",
       "</table>\n",
       "<p>8 rows × 22 columns</p>\n",
       "</div>"
      ],
      "text/plain": [
       "          comment_id   annotator_id       platform      sentiment  \\\n",
       "count  135556.000000  135556.000000  135556.000000  135556.000000   \n",
       "mean    23530.416138    5567.097812       1.281352       2.954307   \n",
       "std     12387.194125    3230.508937       1.023542       1.231552   \n",
       "min         1.000000       1.000000       0.000000       0.000000   \n",
       "25%     18148.000000    2719.000000       0.000000       2.000000   \n",
       "50%     20052.000000    5602.500000       1.000000       3.000000   \n",
       "75%     32038.250000    8363.000000       2.000000       4.000000   \n",
       "max     50070.000000   11142.000000       3.000000       4.000000   \n",
       "\n",
       "             respect        insult      humiliate         status  \\\n",
       "count  135556.000000  135556.00000  135556.000000  135556.000000   \n",
       "mean        2.828875       2.56331       2.278638       2.698575   \n",
       "std         1.309548       1.38983       1.370876       0.898500   \n",
       "min         0.000000       0.00000       0.000000       0.000000   \n",
       "25%         2.000000       2.00000       1.000000       2.000000   \n",
       "50%         3.000000       3.00000       3.000000       3.000000   \n",
       "75%         4.000000       4.00000       3.000000       3.000000   \n",
       "max         4.000000       4.00000       4.000000       4.000000   \n",
       "\n",
       "          dehumanize       violence  ...     hatespeech  hate_speech_score  \\\n",
       "count  135556.000000  135556.000000  ...  135556.000000      135556.000000   \n",
       "mean        1.846211       1.052045  ...       0.744733          -0.567428   \n",
       "std         1.402372       1.345706  ...       0.932260           2.380003   \n",
       "min         0.000000       0.000000  ...       0.000000          -8.340000   \n",
       "25%         1.000000       0.000000  ...       0.000000          -2.330000   \n",
       "50%         2.000000       0.000000  ...       0.000000          -0.340000   \n",
       "75%         3.000000       2.000000  ...       2.000000           1.410000   \n",
       "max         4.000000       4.000000  ...       2.000000           6.300000   \n",
       "\n",
       "             infitms       outfitms  annotator_severity        std_err  \\\n",
       "count  135556.000000  135556.000000       135556.000000  135556.000000   \n",
       "mean        1.034322       1.001052           -0.018817       0.300588   \n",
       "std         0.496867       0.791943            0.487261       0.236380   \n",
       "min         0.100000       0.070000           -1.820000       0.020000   \n",
       "25%         0.710000       0.560000           -0.380000       0.030000   \n",
       "50%         0.960000       0.830000           -0.020000       0.340000   \n",
       "75%         1.300000       1.220000            0.350000       0.420000   \n",
       "max         5.900000       9.000000            1.360000       1.900000   \n",
       "\n",
       "       annotator_infitms  annotator_outfitms     hypothesis  annotator_age  \n",
       "count      135556.000000       135556.000000  135556.000000  135451.000000  \n",
       "mean            1.007158            1.011841       0.014589      37.910772  \n",
       "std             0.269876            0.675863       0.613006      11.641276  \n",
       "min             0.390000            0.280000      -1.578693      18.000000  \n",
       "25%             0.810000            0.670000      -0.341008      29.000000  \n",
       "50%             0.970000            0.850000       0.110405      35.000000  \n",
       "75%             1.170000            1.130000       0.449555      45.000000  \n",
       "max             2.010000            9.000000       0.987511      81.000000  \n",
       "\n",
       "[8 rows x 22 columns]"
      ]
     },
     "execution_count": 3,
     "metadata": {},
     "output_type": "execute_result"
    }
   ],
   "source": [
    "import datasets \n",
    "dataset = datasets.load_dataset('ucberkeley-dlab/measuring-hate-speech', 'binary')   \n",
    "df = dataset['train'].to_pandas()\n",
    "df.describe()"
   ]
  },
  {
   "cell_type": "markdown",
   "id": "84e6bc38",
   "metadata": {},
   "source": [
    "### Examine dataset for dtypes, shape, check for missing data, and drop unnecessary data columns"
   ]
  },
  {
   "cell_type": "code",
   "execution_count": 4,
   "id": "f7de5d2f",
   "metadata": {},
   "outputs": [
    {
     "name": "stdout",
     "output_type": "stream",
     "text": [
      "(135556, 131)\n",
      "comment_id                        int32\n",
      "annotator_id                      int32\n",
      "platform                           int8\n",
      "sentiment                       float64\n",
      "respect                         float64\n",
      "                                 ...   \n",
      "annotator_religion_other           bool\n",
      "annotator_sexuality_bisexual       bool\n",
      "annotator_sexuality_gay            bool\n",
      "annotator_sexuality_straight       bool\n",
      "annotator_sexuality_other          bool\n",
      "Length: 131, dtype: object\n"
     ]
    }
   ],
   "source": [
    "print(df.shape)\n",
    "print(df.dtypes)"
   ]
  },
  {
   "cell_type": "markdown",
   "id": "4d207e10",
   "metadata": {},
   "source": [
    "Confirm no missing data"
   ]
  },
  {
   "cell_type": "code",
   "execution_count": 5,
   "id": "d5040245",
   "metadata": {},
   "outputs": [
    {
     "data": {
      "text/plain": [
       "comment_id                      0\n",
       "annotator_id                    0\n",
       "platform                        0\n",
       "sentiment                       0\n",
       "respect                         0\n",
       "                               ..\n",
       "annotator_religion_other        0\n",
       "annotator_sexuality_bisexual    0\n",
       "annotator_sexuality_gay         0\n",
       "annotator_sexuality_straight    0\n",
       "annotator_sexuality_other       0\n",
       "Length: 131, dtype: int64"
      ]
     },
     "execution_count": 5,
     "metadata": {},
     "output_type": "execute_result"
    }
   ],
   "source": [
    "df.isna().sum()"
   ]
  },
  {
   "cell_type": "markdown",
   "id": "bcf34ac4",
   "metadata": {},
   "source": [
    "Drop all non-core data features from original data set, add feature for Binary Classification "
   ]
  },
  {
   "cell_type": "code",
   "execution_count": 6,
   "id": "01cf9e75",
   "metadata": {},
   "outputs": [
    {
     "name": "stderr",
     "output_type": "stream",
     "text": [
      "C:\\Users\\DP185257\\AppData\\Local\\Temp/ipykernel_10864/2901225391.py:3: SettingWithCopyWarning: \n",
      "A value is trying to be set on a copy of a slice from a DataFrame.\n",
      "Try using .loc[row_indexer,col_indexer] = value instead\n",
      "\n",
      "See the caveats in the documentation: https://pandas.pydata.org/pandas-docs/stable/user_guide/indexing.html#returning-a-view-versus-a-copy\n",
      "  df_text['abusive']=0\n",
      "C:\\Users\\DP185257\\AppData\\Local\\Temp/ipykernel_10864/2901225391.py:8: SettingWithCopyWarning: \n",
      "A value is trying to be set on a copy of a slice from a DataFrame\n",
      "\n",
      "See the caveats in the documentation: https://pandas.pydata.org/pandas-docs/stable/user_guide/indexing.html#returning-a-view-versus-a-copy\n",
      "  df_text['abusive'][i] = 0\n",
      "C:\\Users\\DP185257\\AppData\\Local\\Temp/ipykernel_10864/2901225391.py:6: SettingWithCopyWarning: \n",
      "A value is trying to be set on a copy of a slice from a DataFrame\n",
      "\n",
      "See the caveats in the documentation: https://pandas.pydata.org/pandas-docs/stable/user_guide/indexing.html#returning-a-view-versus-a-copy\n",
      "  df_text['abusive'][i] = 1\n"
     ]
    },
    {
     "data": {
      "text/html": [
       "<div>\n",
       "<style scoped>\n",
       "    .dataframe tbody tr th:only-of-type {\n",
       "        vertical-align: middle;\n",
       "    }\n",
       "\n",
       "    .dataframe tbody tr th {\n",
       "        vertical-align: top;\n",
       "    }\n",
       "\n",
       "    .dataframe thead th {\n",
       "        text-align: right;\n",
       "    }\n",
       "</style>\n",
       "<table border=\"1\" class=\"dataframe\">\n",
       "  <thead>\n",
       "    <tr style=\"text-align: right;\">\n",
       "      <th></th>\n",
       "      <th>hate_speech_score</th>\n",
       "      <th>text</th>\n",
       "      <th>abusive</th>\n",
       "    </tr>\n",
       "  </thead>\n",
       "  <tbody>\n",
       "    <tr>\n",
       "      <th>0</th>\n",
       "      <td>-3.90</td>\n",
       "      <td>Yes indeed. She sort of reminds me of the elde...</td>\n",
       "      <td>0</td>\n",
       "    </tr>\n",
       "    <tr>\n",
       "      <th>1</th>\n",
       "      <td>-6.52</td>\n",
       "      <td>The trans women reading this tweet right now i...</td>\n",
       "      <td>0</td>\n",
       "    </tr>\n",
       "    <tr>\n",
       "      <th>2</th>\n",
       "      <td>0.36</td>\n",
       "      <td>Question: These 4 broads who criticize America...</td>\n",
       "      <td>1</td>\n",
       "    </tr>\n",
       "    <tr>\n",
       "      <th>3</th>\n",
       "      <td>0.26</td>\n",
       "      <td>It is about time for all illegals to go back t...</td>\n",
       "      <td>1</td>\n",
       "    </tr>\n",
       "    <tr>\n",
       "      <th>4</th>\n",
       "      <td>1.54</td>\n",
       "      <td>For starters bend over the one in pink and kic...</td>\n",
       "      <td>1</td>\n",
       "    </tr>\n",
       "  </tbody>\n",
       "</table>\n",
       "</div>"
      ],
      "text/plain": [
       "   hate_speech_score                                               text  \\\n",
       "0              -3.90  Yes indeed. She sort of reminds me of the elde...   \n",
       "1              -6.52  The trans women reading this tweet right now i...   \n",
       "2               0.36  Question: These 4 broads who criticize America...   \n",
       "3               0.26  It is about time for all illegals to go back t...   \n",
       "4               1.54  For starters bend over the one in pink and kic...   \n",
       "\n",
       "   abusive  \n",
       "0        0  \n",
       "1        0  \n",
       "2        1  \n",
       "3        1  \n",
       "4        1  "
      ]
     },
     "execution_count": 6,
     "metadata": {},
     "output_type": "execute_result"
    }
   ],
   "source": [
    "target_cols=['hate_speech_score', 'text']\n",
    "df_text= df[target_cols]\n",
    "df_text['abusive']=0\n",
    "for i in range(len(df_text)):\n",
    "    if df_text.hate_speech_score[i] > 0:\n",
    "        df_text['abusive'][i] = 1\n",
    "    else: \n",
    "        df_text['abusive'][i] = 0\n",
    "df_text.head()"
   ]
  },
  {
   "cell_type": "markdown",
   "id": "1606ed01",
   "metadata": {},
   "source": [
    "# Step 3 - Exploratory Data Analysis\n",
    "There isn't much to explore in this data. We are interested specifically in the text content of the tweets and the words therein. The focus will be only on the corpus and each article's binary classification of 1 (Abusive) or 0 (non-Abusive)\n",
    "#### Visualization of target variable (Y) 'abusive' to check distribution-- it is not extremely one-sided"
   ]
  },
  {
   "cell_type": "code",
   "execution_count": 7,
   "id": "9883f7b9",
   "metadata": {},
   "outputs": [
    {
     "data": {
      "text/plain": [
       "<AxesSubplot:xlabel='abusive', ylabel='count'>"
      ]
     },
     "execution_count": 7,
     "metadata": {},
     "output_type": "execute_result"
    },
    {
     "data": {
      "image/png": "[encoded data removed]",
      "text/plain": [
       "<Figure size 432x288 with 1 Axes>"
      ]
     },
     "metadata": {},
     "output_type": "display_data"
    }
   ],
   "source": [
    "sns.countplot(x='abusive', data=df_text)"
   ]
  },
  {
   "cell_type": "markdown",
   "id": "ccc84527",
   "metadata": {},
   "source": [
    "The binary classes look fairly well distributed, so we do not have to make any accommodations for under-represented classes"
   ]
  },
  {
   "cell_type": "markdown",
   "id": "7b82ee49",
   "metadata": {},
   "source": [
    "#### Now that the data is imported and appropriately formatted, we can begin on \n",
    "# Step 4 - Pre-processing Text"
   ]
  },
  {
   "cell_type": "markdown",
   "id": "f2b577f7",
   "metadata": {},
   "source": [
    "1. I am removing all special characters and differences of Case to get consistency when applying BoW Tf-idf vectorizer\n",
    "2. Once cleaned, I drop the original 'text' column of uncleaned text"
   ]
  },
  {
   "cell_type": "code",
   "execution_count": 8,
   "id": "c00ab137",
   "metadata": {},
   "outputs": [
    {
     "name": "stderr",
     "output_type": "stream",
     "text": [
      "C:\\Users\\DP185257\\AppData\\Local\\Temp/ipykernel_10864/1274324214.py:1: FutureWarning: The default value of regex will change from True to False in a future version.\n",
      "  df_text['clean_text'] = df_text['text'].str.replace('[^a-zA-Z ]', '')\n",
      "C:\\Users\\DP185257\\AppData\\Local\\Temp/ipykernel_10864/1274324214.py:1: SettingWithCopyWarning: \n",
      "A value is trying to be set on a copy of a slice from a DataFrame.\n",
      "Try using .loc[row_indexer,col_indexer] = value instead\n",
      "\n",
      "See the caveats in the documentation: https://pandas.pydata.org/pandas-docs/stable/user_guide/indexing.html#returning-a-view-versus-a-copy\n",
      "  df_text['clean_text'] = df_text['text'].str.replace('[^a-zA-Z ]', '')\n",
      "C:\\Users\\DP185257\\AppData\\Local\\Temp/ipykernel_10864/1274324214.py:2: SettingWithCopyWarning: \n",
      "A value is trying to be set on a copy of a slice from a DataFrame.\n",
      "Try using .loc[row_indexer,col_indexer] = value instead\n",
      "\n",
      "See the caveats in the documentation: https://pandas.pydata.org/pandas-docs/stable/user_guide/indexing.html#returning-a-view-versus-a-copy\n",
      "  df_text['clean_text'] = df_text['clean_text'].str.lower()\n",
      "C:\\Users\\DP185257\\Anaconda3\\lib\\site-packages\\pandas\\core\\frame.py:4906: SettingWithCopyWarning: \n",
      "A value is trying to be set on a copy of a slice from a DataFrame\n",
      "\n",
      "See the caveats in the documentation: https://pandas.pydata.org/pandas-docs/stable/user_guide/indexing.html#returning-a-view-versus-a-copy\n",
      "  return super().drop(\n"
     ]
    },
    {
     "data": {
      "text/html": [
       "<div>\n",
       "<style scoped>\n",
       "    .dataframe tbody tr th:only-of-type {\n",
       "        vertical-align: middle;\n",
       "    }\n",
       "\n",
       "    .dataframe tbody tr th {\n",
       "        vertical-align: top;\n",
       "    }\n",
       "\n",
       "    .dataframe thead th {\n",
       "        text-align: right;\n",
       "    }\n",
       "</style>\n",
       "<table border=\"1\" class=\"dataframe\">\n",
       "  <thead>\n",
       "    <tr style=\"text-align: right;\">\n",
       "      <th></th>\n",
       "      <th>hate_speech_score</th>\n",
       "      <th>abusive</th>\n",
       "      <th>clean_text</th>\n",
       "    </tr>\n",
       "  </thead>\n",
       "  <tbody>\n",
       "    <tr>\n",
       "      <th>0</th>\n",
       "      <td>-3.90</td>\n",
       "      <td>0</td>\n",
       "      <td>yes indeed she sort of reminds me of the elder...</td>\n",
       "    </tr>\n",
       "    <tr>\n",
       "      <th>1</th>\n",
       "      <td>-6.52</td>\n",
       "      <td>0</td>\n",
       "      <td>the trans women reading this tweet right now i...</td>\n",
       "    </tr>\n",
       "    <tr>\n",
       "      <th>2</th>\n",
       "      <td>0.36</td>\n",
       "      <td>1</td>\n",
       "      <td>question these  broads who criticize america w...</td>\n",
       "    </tr>\n",
       "    <tr>\n",
       "      <th>3</th>\n",
       "      <td>0.26</td>\n",
       "      <td>1</td>\n",
       "      <td>it is about time for all illegals to go back t...</td>\n",
       "    </tr>\n",
       "    <tr>\n",
       "      <th>4</th>\n",
       "      <td>1.54</td>\n",
       "      <td>1</td>\n",
       "      <td>for starters bend over the one in pink and kic...</td>\n",
       "    </tr>\n",
       "  </tbody>\n",
       "</table>\n",
       "</div>"
      ],
      "text/plain": [
       "   hate_speech_score  abusive  \\\n",
       "0              -3.90        0   \n",
       "1              -6.52        0   \n",
       "2               0.36        1   \n",
       "3               0.26        1   \n",
       "4               1.54        1   \n",
       "\n",
       "                                          clean_text  \n",
       "0  yes indeed she sort of reminds me of the elder...  \n",
       "1  the trans women reading this tweet right now i...  \n",
       "2  question these  broads who criticize america w...  \n",
       "3  it is about time for all illegals to go back t...  \n",
       "4  for starters bend over the one in pink and kic...  "
      ]
     },
     "execution_count": 8,
     "metadata": {},
     "output_type": "execute_result"
    }
   ],
   "source": [
    "df_text['clean_text'] = df_text['text'].str.replace('[^a-zA-Z ]', '')\n",
    "df_text['clean_text'] = df_text['clean_text'].str.lower()\n",
    "df_text.drop(columns=['text'], inplace=True)\n",
    "df_text.head()"
   ]
  },
  {
   "cell_type": "markdown",
   "id": "0acaaee9",
   "metadata": {},
   "source": [
    "### MEMORY CONSTRAINT\n",
    "At this juncture, I have to reduce the size of the corpus for memory-related limitations"
   ]
  },
  {
   "cell_type": "code",
   "execution_count": 9,
   "id": "9fe136ad",
   "metadata": {},
   "outputs": [
    {
     "data": {
      "text/html": [
       "<div>\n",
       "<style scoped>\n",
       "    .dataframe tbody tr th:only-of-type {\n",
       "        vertical-align: middle;\n",
       "    }\n",
       "\n",
       "    .dataframe tbody tr th {\n",
       "        vertical-align: top;\n",
       "    }\n",
       "\n",
       "    .dataframe thead th {\n",
       "        text-align: right;\n",
       "    }\n",
       "</style>\n",
       "<table border=\"1\" class=\"dataframe\">\n",
       "  <thead>\n",
       "    <tr style=\"text-align: right;\">\n",
       "      <th></th>\n",
       "      <th>hate_speech_score</th>\n",
       "      <th>abusive</th>\n",
       "      <th>clean_text</th>\n",
       "    </tr>\n",
       "  </thead>\n",
       "  <tbody>\n",
       "    <tr>\n",
       "      <th>0</th>\n",
       "      <td>2.45</td>\n",
       "      <td>1</td>\n",
       "      <td>every slant in losangeles should be deported t...</td>\n",
       "    </tr>\n",
       "    <tr>\n",
       "      <th>1</th>\n",
       "      <td>0.05</td>\n",
       "      <td>1</td>\n",
       "      <td>lmfao me bumping a bitch that talks to my man</td>\n",
       "    </tr>\n",
       "    <tr>\n",
       "      <th>2</th>\n",
       "      <td>-3.30</td>\n",
       "      <td>0</td>\n",
       "      <td>latinas are the best</td>\n",
       "    </tr>\n",
       "    <tr>\n",
       "      <th>3</th>\n",
       "      <td>1.61</td>\n",
       "      <td>1</td>\n",
       "      <td>learn how to be a proper whore and show those ...</td>\n",
       "    </tr>\n",
       "    <tr>\n",
       "      <th>4</th>\n",
       "      <td>-4.80</td>\n",
       "      <td>0</td>\n",
       "      <td>nugs lauds ghanaian muslims for their immense ...</td>\n",
       "    </tr>\n",
       "  </tbody>\n",
       "</table>\n",
       "</div>"
      ],
      "text/plain": [
       "   hate_speech_score  abusive  \\\n",
       "0               2.45        1   \n",
       "1               0.05        1   \n",
       "2              -3.30        0   \n",
       "3               1.61        1   \n",
       "4              -4.80        0   \n",
       "\n",
       "                                          clean_text  \n",
       "0  every slant in losangeles should be deported t...  \n",
       "1      lmfao me bumping a bitch that talks to my man  \n",
       "2                              latinas are the best   \n",
       "3  learn how to be a proper whore and show those ...  \n",
       "4  nugs lauds ghanaian muslims for their immense ...  "
      ]
     },
     "execution_count": 9,
     "metadata": {},
     "output_type": "execute_result"
    }
   ],
   "source": [
    "df_sm = df_text.sample(30000, ignore_index=True, random_state=123)\n",
    "df_sm.head()"
   ]
  },
  {
   "cell_type": "markdown",
   "id": "6dae3c10",
   "metadata": {},
   "source": [
    "### Apply a TF-IDF vectorizer to get our Bag of Words / Vocabulary\n",
    "Additionally, to remove irrelevant words and lower the vocabulary size, we are requiring words to appear in at least 10 (out of 30,000) tweets to be included in BoW. We are also dropping English \"stop words\""
   ]
  },
  {
   "cell_type": "code",
   "execution_count": 10,
   "id": "d890a8aa",
   "metadata": {},
   "outputs": [
    {
     "name": "stdout",
     "output_type": "stream",
     "text": [
      "   TFIDF_abc  TFIDF_abeg  TFIDF_ability  TFIDF_able  TFIDF_abort  \\\n",
      "0        0.0         0.0            0.0         0.0          0.0   \n",
      "1        0.0         0.0            0.0         0.0          0.0   \n",
      "2        0.0         0.0            0.0         0.0          0.0   \n",
      "3        0.0         0.0            0.0         0.0          0.0   \n",
      "4        0.0         0.0            0.0         0.0          0.0   \n",
      "\n",
      "   TFIDF_aborted  TFIDF_abortion  TFIDF_abortions  TFIDF_abraham  \\\n",
      "0            0.0             0.0              0.0            0.0   \n",
      "1            0.0             0.0              0.0            0.0   \n",
      "2            0.0             0.0              0.0            0.0   \n",
      "3            0.0             0.0              0.0            0.0   \n",
      "4            0.0             0.0              0.0            0.0   \n",
      "\n",
      "   TFIDF_absolute  ...  TFIDF_youtube  TFIDF_youve  TFIDF_yr  TFIDF_yrs  \\\n",
      "0             0.0  ...            0.0          0.0       0.0        0.0   \n",
      "1             0.0  ...            0.0          0.0       0.0        0.0   \n",
      "2             0.0  ...            0.0          0.0       0.0        0.0   \n",
      "3             0.0  ...            0.0          0.0       0.0        0.0   \n",
      "4             0.0  ...            0.0          0.0       0.0        0.0   \n",
      "\n",
      "   TFIDF_yt  TFIDF_yta  TFIDF_yup  TFIDF_zero  TFIDF_zionist  TFIDF_zionists  \n",
      "0       0.0        0.0        0.0         0.0            0.0             0.0  \n",
      "1       0.0        0.0        0.0         0.0            0.0             0.0  \n",
      "2       0.0        0.0        0.0         0.0            0.0             0.0  \n",
      "3       0.0        0.0        0.0         0.0            0.0             0.0  \n",
      "4       0.0        0.0        0.0         0.0            0.0             0.0  \n",
      "\n",
      "[5 rows x 3674 columns]\n"
     ]
    }
   ],
   "source": [
    "from sklearn.feature_extraction.text import TfidfVectorizer\n",
    "\n",
    "# Instantiate TfidfVectorizer\n",
    "tv = TfidfVectorizer(stop_words='english',\n",
    "                    min_df=10)\n",
    "\n",
    "# Fit the vectorizer and transform the data\n",
    "tv_transformed = tv.fit_transform(df_sm['clean_text'])\n",
    "\n",
    "# Create a DataFrame with these features\n",
    "tv_df = pd.DataFrame(tv_transformed.toarray(), \n",
    "                     columns=tv.get_feature_names()).add_prefix('TFIDF_')\n",
    "print(tv_df.head())"
   ]
  },
  {
   "cell_type": "markdown",
   "id": "497a972a",
   "metadata": {},
   "source": [
    "This gives us 3674 'features', or words in our vocabulary"
   ]
  },
  {
   "cell_type": "code",
   "execution_count": 11,
   "id": "7911209a",
   "metadata": {},
   "outputs": [
    {
     "data": {
      "text/plain": [
       "(30000, 3674)"
      ]
     },
     "execution_count": 11,
     "metadata": {},
     "output_type": "execute_result"
    }
   ],
   "source": [
    "tv_df.shape"
   ]
  },
  {
   "cell_type": "markdown",
   "id": "72d8f8c6",
   "metadata": {},
   "source": [
    "Garbage cleanup of past 'weighty' variables in memory"
   ]
  },
  {
   "cell_type": "code",
   "execution_count": 12,
   "id": "cb088400",
   "metadata": {},
   "outputs": [
    {
     "data": {
      "text/plain": [
       "0"
      ]
     },
     "execution_count": 12,
     "metadata": {},
     "output_type": "execute_result"
    }
   ],
   "source": [
    " # manually initiate the garbage collector to remove the data from memory.\n",
    "import gc\n",
    "del df_text\n",
    "gc.collect() "
   ]
  },
  {
   "cell_type": "markdown",
   "id": "ee37a281",
   "metadata": {},
   "source": [
    "# Step 5 - Modeling\n",
    "### Model 1: Logistic Regression - Training and Scoring\n"
   ]
  },
  {
   "cell_type": "code",
   "execution_count": 13,
   "id": "e744ded9",
   "metadata": {},
   "outputs": [],
   "source": [
    "from sklearn import linear_model, preprocessing\n",
    "from sklearn.metrics import mean_squared_error, r2_score\n",
    "import sklearn.model_selection\n",
    "from sklearn.model_selection import train_test_split"
   ]
  },
  {
   "cell_type": "markdown",
   "id": "a446a286",
   "metadata": {},
   "source": [
    "Split dataset into independent variables (TD-IDF BoW) and dependent variable (binary 'Abusive')"
   ]
  },
  {
   "cell_type": "code",
   "execution_count": 14,
   "id": "61b348db",
   "metadata": {},
   "outputs": [
    {
     "name": "stdout",
     "output_type": "stream",
     "text": [
      "(22500, 3674) (7500, 3674)\n",
      "(22500,) (7500,)\n"
     ]
    }
   ],
   "source": [
    "#Split data into X and y components\n",
    "X_train, X_test, y_train, y_test = train_test_split(tv_df, df_sm.abusive, test_size=0.25, random_state=123)\n",
    "print(X_train.shape, X_test.shape)\n",
    "print(y_train.shape, y_test.shape)"
   ]
  },
  {
   "cell_type": "markdown",
   "id": "e42d14af",
   "metadata": {},
   "source": [
    "Run a basic Logistic Regressor with C=10 and L2 Penalty and LibLinear resolver"
   ]
  },
  {
   "cell_type": "code",
   "execution_count": 15,
   "id": "32f44cf7",
   "metadata": {},
   "outputs": [
    {
     "name": "stdout",
     "output_type": "stream",
     "text": [
      "              precision    recall  f1-score   support\n",
      "\n",
      "           0       0.84      0.88      0.86      4100\n",
      "           1       0.85      0.80      0.82      3400\n",
      "\n",
      "    accuracy                           0.84      7500\n",
      "   macro avg       0.85      0.84      0.84      7500\n",
      "weighted avg       0.84      0.84      0.84      7500\n",
      "\n"
     ]
    }
   ],
   "source": [
    "from sklearn.linear_model import LogisticRegression\n",
    "from sklearn.metrics import accuracy_score, classification_report\n",
    "from sklearn.metrics import confusion_matrix, roc_curve, auc\n",
    "\n",
    "lr_tfidf=LogisticRegression(solver = 'liblinear', C=10, penalty = 'l2')\n",
    "lr_tfidf.fit(X_train, y_train)  \n",
    "\n",
    "#Predict y value for test dataset\n",
    "y_predict = lr_tfidf.predict(X_test)\n",
    "y_prob = lr_tfidf.predict_proba(X_test)[:,1]\n",
    "print(classification_report(y_test,y_predict))\n"
   ]
  },
  {
   "cell_type": "markdown",
   "id": "fe2837f5",
   "metadata": {},
   "source": [
    "This starts off already pretty good, with 84% accuracy and 88% positive Recall. \n",
    "<br>\n",
    "Let's also plot heatmap of Confusion Matrix to get a better look"
   ]
  },
  {
   "cell_type": "code",
   "execution_count": 16,
   "id": "73989d7c",
   "metadata": {},
   "outputs": [
    {
     "data": {
      "image/png": "[encoded data removed]",
      "text/plain": [
       "<Figure size 432x288 with 2 Axes>"
      ]
     },
     "metadata": {},
     "output_type": "display_data"
    }
   ],
   "source": [
    "ax= plt.subplot()\n",
    "sns.heatmap(confusion_matrix(y_test, y_predict), annot=True, fmt='g', ax=ax, cmap='Greens');  #annot=True to annotate cells, ftm='g' to disable scientific notation\n",
    "\n",
    "# labels, title and ticks\n",
    "ax.set_xlabel('Predicted labels');ax.set_ylabel('True labels'); \n",
    "ax.set_title('Confusion Matrix'); \n",
    "ax.xaxis.set_ticklabels(['Abusive', 'non-Abusive']); ax.yaxis.set_ticklabels(['Abusive', 'non-Abusive']);\n",
    "\n",
    "#print('Confusion Matrix:',confusion_matrix(y_test, y_predict))"
   ]
  },
  {
   "cell_type": "code",
   "execution_count": 17,
   "id": "0413c358",
   "metadata": {},
   "outputs": [
    {
     "name": "stdout",
     "output_type": "stream",
     "text": [
      "AUC: 0.9288244261119082\n"
     ]
    }
   ],
   "source": [
    "fpr, tpr, thresholds = roc_curve(y_test, y_prob)\n",
    "roc_auc = auc(fpr, tpr)\n",
    "print('AUC:', roc_auc)"
   ]
  },
  {
   "cell_type": "markdown",
   "id": "c91402ee",
   "metadata": {},
   "source": [
    "#### Initial assessment\n",
    "Model performance isn't bad, with F1 score of 84% accuracy. However, in this problem of labeling text as 'Abusive' (positive class) or not, it should be more important to minimize the number of False Negatives (labeled as non-Abusive, when it actually is) aka Recall, than to minimize the number of False Positives (labeled as Abusive, when it really isn't) aka Precision. \n",
    "<br>\n",
    "<br>\n",
    "That said, let's fine tune the model to see if we can improve our overall accuracy, and then we can set out to see if we can achieve better recall with another Model"
   ]
  },
  {
   "cell_type": "markdown",
   "id": "621b6523",
   "metadata": {},
   "source": [
    "### Optimizing LogReg Hyperparameters\n",
    "Using GridSearch, we will test 15 combinations of Solver + C values, using a constant Penalty=L2 hyperparam. \n",
    "The results from this indicated that the best params were solver=liblinear and C=10, which are the same hyperparamters we chose at the start, which is great, no change necessary"
   ]
  },
  {
   "cell_type": "code",
   "execution_count": 18,
   "id": "7438c551",
   "metadata": {},
   "outputs": [
    {
     "name": "stdout",
     "output_type": "stream",
     "text": [
      "Best: 0.854011 using {'C': 10, 'penalty': 'l2', 'solver': 'sag'}\n",
      "0.847933 (0.004329) with: {'C': 50, 'penalty': 'l2', 'solver': 'sag'}\n",
      "0.847656 (0.004362) with: {'C': 50, 'penalty': 'l2', 'solver': 'lbfgs'}\n",
      "0.847956 (0.004325) with: {'C': 50, 'penalty': 'l2', 'solver': 'liblinear'}\n",
      "0.854011 (0.004255) with: {'C': 10, 'penalty': 'l2', 'solver': 'sag'}\n",
      "0.853933 (0.004301) with: {'C': 10, 'penalty': 'l2', 'solver': 'lbfgs'}\n",
      "0.854000 (0.004294) with: {'C': 10, 'penalty': 'l2', 'solver': 'liblinear'}\n",
      "0.852544 (0.004546) with: {'C': 1.0, 'penalty': 'l2', 'solver': 'sag'}\n",
      "0.852556 (0.004582) with: {'C': 1.0, 'penalty': 'l2', 'solver': 'lbfgs'}\n",
      "0.852533 (0.004556) with: {'C': 1.0, 'penalty': 'l2', 'solver': 'liblinear'}\n",
      "0.830744 (0.005304) with: {'C': 0.1, 'penalty': 'l2', 'solver': 'sag'}\n",
      "0.830733 (0.005317) with: {'C': 0.1, 'penalty': 'l2', 'solver': 'lbfgs'}\n",
      "0.830811 (0.005367) with: {'C': 0.1, 'penalty': 'l2', 'solver': 'liblinear'}\n",
      "0.822767 (0.005834) with: {'C': 0.05, 'penalty': 'l2', 'solver': 'sag'}\n",
      "0.822756 (0.005832) with: {'C': 0.05, 'penalty': 'l2', 'solver': 'lbfgs'}\n",
      "0.822956 (0.005897) with: {'C': 0.05, 'penalty': 'l2', 'solver': 'liblinear'}\n"
     ]
    }
   ],
   "source": [
    "from sklearn.model_selection import RepeatedStratifiedKFold\n",
    "from sklearn.model_selection import GridSearchCV\n",
    "\n",
    "# define models and parameters\n",
    "model = LogisticRegression()\n",
    "solvers = ['sag', 'lbfgs', 'liblinear']\n",
    "penalty = ['l2']\n",
    "c_values = [50, 10, 1.0, 0.1, 0.05]\n",
    "# define grid search\n",
    "grid = dict(solver=solvers,penalty=penalty,C=c_values)\n",
    "cv = RepeatedStratifiedKFold(n_splits=5, n_repeats=3, random_state=123)\n",
    "grid_search = GridSearchCV(estimator=model, param_grid=grid, n_jobs=-1, cv=cv, scoring='accuracy',error_score=0)\n",
    "grid_result = grid_search.fit(tv_df, df_sm.abusive)\n",
    "# summarize results\n",
    "print(\"Best: %f using %s\" % (grid_result.best_score_, grid_result.best_params_))\n",
    "means = grid_result.cv_results_['mean_test_score']\n",
    "stds = grid_result.cv_results_['std_test_score']\n",
    "params = grid_result.cv_results_['params']\n",
    "for mean, stdev, param in zip(means, stds, params):\n",
    "    print(\"%f (%f) with: %r\" % (mean, stdev, param))"
   ]
  },
  {
   "cell_type": "markdown",
   "id": "27c39511",
   "metadata": {},
   "source": [
    "We don't see significant improvement with GridSearch, less than 0.02 points. Let's try another model to try and improve Recall\n",
    "### Model 2: RandomForest"
   ]
  },
  {
   "cell_type": "code",
   "execution_count": 19,
   "id": "facb1015",
   "metadata": {},
   "outputs": [
    {
     "name": "stdout",
     "output_type": "stream",
     "text": [
      "Random Forest: Accuracy=0.875\n",
      "Random Forest: f1-score=0.874\n"
     ]
    }
   ],
   "source": [
    "from sklearn.ensemble import RandomForestClassifier\n",
    "from sklearn.metrics import f1_score\n",
    "from sklearn.metrics import accuracy_score,log_loss\n",
    "\n",
    "from sklearn.ensemble import RandomForestClassifier\n",
    "clf = RandomForestClassifier(n_estimators=300, random_state = 123,n_jobs=-1)\n",
    "model_res = clf.fit(X_train, y_train)\n",
    "y_pred = model_res.predict(X_test)\n",
    "y_pred_prob = model_res.predict_proba(X_test)\n",
    "lr_probs = y_pred_prob[:,1]\n",
    "ac = accuracy_score(y_test, y_pred)\n",
    "\n",
    "f1 = f1_score(y_test, y_pred, average='weighted')\n",
    "cm = confusion_matrix(y_test, y_pred)\n",
    "\n",
    "print('Random Forest: Accuracy=%.3f' % (ac))\n",
    "print('Random Forest: f1-score=%.3f' % (f1))"
   ]
  },
  {
   "cell_type": "code",
   "execution_count": 20,
   "id": "9e6cb3d0",
   "metadata": {},
   "outputs": [
    {
     "name": "stdout",
     "output_type": "stream",
     "text": [
      "              precision    recall  f1-score   support\n",
      "\n",
      "           0       0.86      0.92      0.89      4100\n",
      "           1       0.89      0.82      0.86      3400\n",
      "\n",
      "    accuracy                           0.87      7500\n",
      "   macro avg       0.88      0.87      0.87      7500\n",
      "weighted avg       0.88      0.87      0.87      7500\n",
      "\n"
     ]
    }
   ],
   "source": [
    "print(classification_report(y_test,y_pred))"
   ]
  },
  {
   "cell_type": "markdown",
   "id": "c4cdeacc",
   "metadata": {},
   "source": [
    "### Improvement via Random Forest\n",
    "Immediately we see improvement over our LogReg model. We have an f1-score of 0.875, more than 2 points better than logReg, and our Recall is ~92%!\n",
    "<br>\n",
    "Let's check the Confusion Matrix and then see if we can improve that score with GridSearch tuning"
   ]
  },
  {
   "cell_type": "code",
   "execution_count": 21,
   "id": "a982cfdf",
   "metadata": {},
   "outputs": [
    {
     "data": {
      "image/png": "[encoded data removed]",
      "text/plain": [
       "<Figure size 432x288 with 2 Axes>"
      ]
     },
     "metadata": {},
     "output_type": "display_data"
    }
   ],
   "source": [
    "ax= plt.subplot()\n",
    "sns.heatmap(confusion_matrix(y_test, y_pred), annot=True, fmt='g', ax=ax, cmap='Greens');  #annot=True to annotate cells, ftm='g' to disable scientific notation\n",
    "\n",
    "# labels, title and ticks\n",
    "ax.set_xlabel('Predicted labels');ax.set_ylabel('True labels'); \n",
    "ax.set_title('Confusion Matrix'); \n",
    "ax.xaxis.set_ticklabels(['Abusive', 'non-Abusive']); ax.yaxis.set_ticklabels(['Abusive', 'non-Abusive']);\n",
    "\n",
    "#print('Confusion Matrix:',confusion_matrix(y_test, y_predict))"
   ]
  },
  {
   "cell_type": "markdown",
   "id": "4fcbfedd",
   "metadata": {},
   "source": [
    "### UPDATE: My box isn't adequate for multi-param CV GridSearch\n",
    "The kernel would die after several hours without completing. Instead, below, is a series of single-param 'GridSearch' functions showing that the accuracy score improves as N_estimators increases, and that the Max_Features param seemed to be better suited for 'sqrt'."
   ]
  },
  {
   "cell_type": "code",
   "execution_count": 26,
   "id": "3b85b256",
   "metadata": {},
   "outputs": [],
   "source": [
    "import time"
   ]
  },
  {
   "cell_type": "markdown",
   "id": "d493fde5",
   "metadata": {},
   "source": [
    "#### Starting with n_estimators=100 and max_features='sqrt'"
   ]
  },
  {
   "cell_type": "code",
   "execution_count": 34,
   "id": "064b18e2",
   "metadata": {},
   "outputs": [
    {
     "name": "stdout",
     "output_type": "stream",
     "text": [
      "Best: 0.872083 using {'max_features': 'sqrt', 'n_estimators': 100}\n",
      "0.872083 (0.002237) with: {'max_features': 'sqrt', 'n_estimators': 100}\n"
     ]
    }
   ],
   "source": [
    "model = RandomForestClassifier()\n",
    "n_estimators = [100]\n",
    "#, 50, 500\n",
    "max_features = ['sqrt']\n",
    "#, 'log2'\n",
    "# define grid search\n",
    "grid = dict(n_estimators=n_estimators,max_features=max_features)\n",
    "cv = RepeatedStratifiedKFold(n_splits=3, n_repeats=2, random_state=123)\n",
    "grid_search = GridSearchCV(estimator=model, param_grid=grid, n_jobs=-1, cv=cv, scoring='accuracy',error_score=0)\n",
    "grid_result = grid_search.fit(tv_df, df_sm.abusive)\n",
    "# summarize results\n",
    "print(\"Best: %f using %s\" % (grid_result.best_score_, grid_result.best_params_))\n",
    "means = grid_result.cv_results_['mean_test_score']\n",
    "stds = grid_result.cv_results_['std_test_score']\n",
    "params = grid_result.cv_results_['params']\n",
    "for mean, stdev, param in zip(means, stds, params):\n",
    "    print(\"%f (%f) with: %r\" % (mean, stdev, param))"
   ]
  },
  {
   "cell_type": "markdown",
   "id": "7e7815f8",
   "metadata": {},
   "source": [
    "#### Using same n_estimators=100 but changing max_features='log2', we can see this underperformes the model above using ='sqrt'"
   ]
  },
  {
   "cell_type": "code",
   "execution_count": 35,
   "id": "ace1da8e",
   "metadata": {},
   "outputs": [
    {
     "name": "stdout",
     "output_type": "stream",
     "text": [
      "Best: 0.871133 using {'max_features': 'log2', 'n_estimators': 100}\n",
      "0.871133 (0.002991) with: {'max_features': 'log2', 'n_estimators': 100}\n"
     ]
    }
   ],
   "source": [
    "model = RandomForestClassifier()\n",
    "n_estimators = [100]\n",
    "#, 50, 500\n",
    "max_features = ['log2']\n",
    "#, 'sqrt'\n",
    "# define grid search\n",
    "grid = dict(n_estimators=n_estimators,max_features=max_features)\n",
    "cv = RepeatedStratifiedKFold(n_splits=3, n_repeats=2, random_state=123)\n",
    "grid_search = GridSearchCV(estimator=model, param_grid=grid, n_jobs=-1, cv=cv, scoring='accuracy',error_score=0)\n",
    "grid_result = grid_search.fit(tv_df, df_sm.abusive)\n",
    "# summarize results\n",
    "print(\"Best: %f using %s\" % (grid_result.best_score_, grid_result.best_params_))\n",
    "means = grid_result.cv_results_['mean_test_score']\n",
    "stds = grid_result.cv_results_['std_test_score']\n",
    "params = grid_result.cv_results_['params']\n",
    "for mean, stdev, param in zip(means, stds, params):\n",
    "    print(\"%f (%f) with: %r\" % (mean, stdev, param))"
   ]
  },
  {
   "cell_type": "markdown",
   "id": "4c9e4011",
   "metadata": {},
   "source": [
    "#### Back to max_features='sqrt', and jump up to n_estimators=500, noted another minor improvement (+0.003), but in an overwritten trial, this was the same as n_estimators=300, so the model converges around ~300, which is what we already used in our initial RF Model"
   ]
  },
  {
   "cell_type": "code",
   "execution_count": 36,
   "id": "a6db1e19",
   "metadata": {},
   "outputs": [
    {
     "name": "stdout",
     "output_type": "stream",
     "text": [
      "Random Forest: Accuracy=0.875\n",
      "Random Forest: f1-score=0.874\n",
      "243.98649959999602\n"
     ]
    }
   ],
   "source": [
    "start = time.perf_counter()\n",
    "model = RandomForestClassifier(n_estimators=500, max_depth=None, \n",
    "                               max_features='sqrt', n_jobs=-1,\n",
    "                               random_state=123)\n",
    "model.fit(tv_df, df_sm.abusive)\n",
    "y_pred = model_res.predict(X_test)\n",
    "y_pred_prob = model_res.predict_proba(X_test)\n",
    "lr_probs = y_pred_prob[:,1]\n",
    "ac = accuracy_score(y_test, y_pred)\n",
    "\n",
    "f1 = f1_score(y_test, y_pred, average='weighted')\n",
    "cm = confusion_matrix(y_test, y_pred)\n",
    "\n",
    "print('Random Forest: Accuracy=%.3f' % (ac))\n",
    "print('Random Forest: f1-score=%.3f' % (f1))\n",
    "\n",
    "end = time.perf_counter()\n",
    "print(end-start)"
   ]
  },
  {
   "cell_type": "markdown",
   "id": "8244730a",
   "metadata": {},
   "source": [
    "With this model, we should be able to confidently identify Abusive Tweets (or any text articles), knowing we will correctly predict Abusive text 92% of the time. "
   ]
  },
  {
   "cell_type": "markdown",
   "id": "54bb2aed",
   "metadata": {},
   "source": [
    "# Summary and Conclusions"
   ]
  },
  {
   "cell_type": "markdown",
   "id": "5ef86b35",
   "metadata": {},
   "source": [
    "Our dataset was too big to process entirely with current hardware specifications, so we used a subset of a very well annotated Twitter dataset. We confirmed there were no missing data points and no wild outliers that we didn't expect. \n",
    "<br><br>\n",
    "We were able to process the text data to clean it up, lowercase everything, remove special characters, and then vectorize the cleaned text via TF IDF, to value important words higher. \n",
    "<br><br>\n",
    "With the vectorized vocabulary, we trained both Logistic Regresion and Random Forest models. After optimizing hyperparameters in both cases, We found the Random Forest model confidently outperformed the Logistic Regression model, giving us an accuracy of 87.5% and Recall of 92%.\n",
    "<br><br><br>"
   ]
  },
  {
   "cell_type": "code",
   "execution_count": null,
   "id": "cc74b0a5",
   "metadata": {},
   "outputs": [],
   "source": []
  }
 ],
 "metadata": {
  "kernelspec": {
   "display_name": "Python 3 (ipykernel)",
   "language": "python",
   "name": "python3"
  },
  "language_info": {
   "codemirror_mode": {
    "name": "ipython",
    "version": 3
   },
   "file_extension": ".py",
   "mimetype": "text/x-python",
   "name": "python",
   "nbconvert_exporter": "python",
   "pygments_lexer": "ipython3",
   "version": "3.9.7"
  }
 },
 "nbformat": 4,
 "nbformat_minor": 5
}
